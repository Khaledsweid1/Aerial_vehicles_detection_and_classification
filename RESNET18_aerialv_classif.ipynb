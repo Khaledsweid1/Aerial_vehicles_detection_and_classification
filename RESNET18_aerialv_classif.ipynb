{
  "nbformat": 4,
  "nbformat_minor": 0,
  "metadata": {
    "colab": {
      "provenance": [],
      "gpuType": "T4"
    },
    "kernelspec": {
      "name": "python3",
      "display_name": "Python 3"
    },
    "language_info": {
      "name": "python"
    },
    "accelerator": "GPU"
  },
  "cells": [
    {
      "cell_type": "code",
      "execution_count": null,
      "metadata": {
        "id": "kPfFXLbWdCnq"
      },
      "outputs": [],
      "source": [
        "from google.colab import drive\n",
        "drive.mount('/content/drive')\n",
        "data_dir = \"/content/drive/My Drive/Aerial classes small\"  # Adjust the path\n"
      ]
    },
    {
      "cell_type": "code",
      "source": [
        "!pip install torch torchvision matplotlib\n"
      ],
      "metadata": {
        "id": "TotZ3hbrdz6c"
      },
      "execution_count": null,
      "outputs": []
    },
    {
      "cell_type": "code",
      "source": [
        "import torch\n",
        "import torch.nn as nn\n",
        "from torchvision import models\n",
        "\n",
        "# Load pretrained ResNet-18 model\n",
        "resnet18 = models.resnet18(pretrained=True)\n",
        "\n",
        "# Modify the fully connected layer for 5 classes\n",
        "num_features = resnet18.fc.in_features\n",
        "resnet18.fc = nn.Linear(num_features, 5)\n",
        "\n",
        "# Check if GPU is available\n",
        "device = torch.device(\"cuda\" if torch.cuda.is_available() else \"cpu\")\n",
        "resnet18 = resnet18.to(device)\n",
        "\n",
        "# Print model architecture\n",
        "print(resnet18)\n"
      ],
      "metadata": {
        "id": "IzW8EOeHd95u"
      },
      "execution_count": null,
      "outputs": []
    },
    {
      "cell_type": "code",
      "source": [
        "import torch\n",
        "from torchvision import datasets, transforms\n",
        "from torch.utils.data import DataLoader\n",
        "import torch.optim as optim\n",
        "import torch.nn as nn\n",
        "from torchvision import models\n",
        "\n",
        "# Define transformations\n",
        "transform = transforms.Compose([\n",
        "    transforms.Resize((224, 224)),\n",
        "    transforms.ToTensor(),\n",
        "    transforms.Normalize(mean=[0.485, 0.456, 0.406], std=[0.229, 0.224, 0.225])\n",
        "])\n",
        "\n",
        "# Dataset path (ensure this is correct)\n",
        "#data_dir = \"/content/dataset\"  # Adjust if needed\n",
        "\n",
        "# Load datasets\n",
        "train_dataset = datasets.ImageFolder(root=f\"{data_dir}/train\", transform=transform)\n",
        "val_dataset = datasets.ImageFolder(root=f\"{data_dir}/val\", transform=transform)\n",
        "test_dataset = datasets.ImageFolder(root=f\"{data_dir}/test\", transform=transform)\n",
        "\n",
        "# Print dataset lengths\n",
        "print(f\"Train dataset length: {len(train_dataset)}\")\n",
        "print(f\"Validation dataset length: {len(val_dataset)}\")\n",
        "print(f\"Test dataset length: {len(test_dataset)}\")\n",
        "\n",
        "# Data loaders\n",
        "train_loader = DataLoader(train_dataset, batch_size=32, shuffle=True)\n",
        "val_loader = DataLoader(val_dataset, batch_size=32, shuffle=False)\n",
        "test_loader = DataLoader(test_dataset, batch_size=32, shuffle=False)\n",
        "\n",
        "# Load pretrained ResNet-18\n",
        "resnet18 = models.resnet18(pretrained=True)\n",
        "num_features = resnet18.fc.in_features\n",
        "resnet18.fc = nn.Linear(num_features, 5)\n",
        "\n",
        "# Check if GPU is available\n",
        "device = torch.device(\"cuda\" if torch.cuda.is_available() else \"cpu\")\n",
        "resnet18 = resnet18.to(device)\n",
        "\n",
        "# Hyperparameters\n",
        "learning_rate = 0.001\n",
        "num_epochs = 10\n",
        "criterion = nn.CrossEntropyLoss()\n",
        "optimizer = optim.Adam(resnet18.parameters(), lr=learning_rate)\n",
        "\n",
        "# Training loop\n",
        "def train_model(model, train_loader, val_loader, num_epochs, criterion, optimizer, device):\n",
        "    for epoch in range(num_epochs):\n",
        "        model.train()\n",
        "        running_loss = 0.0\n",
        "\n",
        "        for inputs, labels in train_loader:\n",
        "            inputs, labels = inputs.to(device), labels.to(device)\n",
        "\n",
        "            optimizer.zero_grad()\n",
        "            outputs = model(inputs)\n",
        "            loss = criterion(outputs, labels)\n",
        "            loss.backward()\n",
        "            optimizer.step()\n",
        "\n",
        "            running_loss += loss.item()\n",
        "\n",
        "        print(f\"Epoch {epoch+1}/{num_epochs}, Loss: {running_loss/len(train_loader):.4f}\")\n",
        "        validate_model(model, val_loader, criterion, device)\n",
        "\n",
        "# Validation loop\n",
        "def validate_model(model, val_loader, criterion, device):\n",
        "    model.eval()\n",
        "    val_loss = 0.0\n",
        "    correct = 0\n",
        "    total = 0\n",
        "\n",
        "    with torch.no_grad():\n",
        "        for inputs, labels in val_loader:\n",
        "            inputs, labels = inputs.to(device), labels.to(device)\n",
        "\n",
        "            outputs = model(inputs)\n",
        "            loss = criterion(outputs, labels)\n",
        "            val_loss += loss.item()\n",
        "\n",
        "            _, predicted = torch.max(outputs, 1)\n",
        "            total += labels.size(0)\n",
        "            correct += (predicted == labels).sum().item()\n",
        "\n",
        "    print(f\"Validation Loss: {val_loss/len(val_loader):.4f}, Accuracy: {100 * correct/total:.2f}%\")\n",
        "\n",
        "# Start training\n",
        "train_model(resnet18, train_loader, val_loader, num_epochs, criterion, optimizer, device)\n"
      ],
      "metadata": {
        "id": "jcrRahwbgkz5"
      },
      "execution_count": null,
      "outputs": []
    },
    {
      "cell_type": "code",
      "source": [
        "torch.save(resnet18.state_dict(), \"best_model10epochs.pth\")\n"
      ],
      "metadata": {
        "id": "Nxfo5VGyl2Au"
      },
      "execution_count": null,
      "outputs": []
    },
    {
      "cell_type": "code",
      "source": [
        "from google.colab import files\n",
        "files.download('best_model10epochs.pth')\n"
      ],
      "metadata": {
        "id": "rNbOFXffmCVi"
      },
      "execution_count": null,
      "outputs": []
    }
  ]
}